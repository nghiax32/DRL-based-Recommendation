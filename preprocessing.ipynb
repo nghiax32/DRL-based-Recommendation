{
 "cells": [
  {
   "cell_type": "code",
   "execution_count": 1,
   "metadata": {},
   "outputs": [],
   "source": [
    "import pandas as pd\n",
    "import pickle\n",
    "import numpy as np"
   ]
  },
  {
   "cell_type": "code",
   "execution_count": 2,
   "metadata": {},
   "outputs": [
    {
     "name": "stdout",
     "output_type": "stream",
     "text": [
      "Processing users\n",
      "     user_id  user_id_num\n",
      "0          1            0\n",
      "1          2            1\n",
      "2          3            2\n",
      "3          4            3\n",
      "4          5            4\n",
      "...      ...          ...\n",
      "6035    6036         6035\n",
      "6036    6037         6036\n",
      "6037    6038         6037\n",
      "6038    6039         6038\n",
      "6039    6040         6039\n",
      "\n",
      "[6040 rows x 2 columns]\n",
      "Processing items\n",
      "     movie_id  movie_id_num\n",
      "0           1             0\n",
      "1           2             1\n",
      "2           3             2\n",
      "3           4             3\n",
      "4           5             4\n",
      "...       ...           ...\n",
      "3878     3948          3878\n",
      "3879     3949          3879\n",
      "3880     3950          3880\n",
      "3881     3951          3881\n",
      "3882     3952          3882\n",
      "\n",
      "[3883 rows x 2 columns]\n",
      "Processing ratings\n",
      "         rating  timestamp  user_id_num  movie_id_num\n",
      "0             5  978300760            0          1176\n",
      "1             3  978302109            0           655\n",
      "2             3  978301968            0           902\n",
      "3             4  978300275            0          3339\n",
      "4             5  978824291            0          2286\n",
      "...         ...        ...          ...           ...\n",
      "1000204       1  956716541         6039          1075\n",
      "1000205       5  956704887         6039          1078\n",
      "1000206       5  956704746         6039           558\n",
      "1000207       4  956715648         6039          1080\n",
      "1000208       4  956715569         6039          1081\n",
      "\n",
      "[1000209 rows x 4 columns]\n"
     ]
    }
   ],
   "source": [
    "USERS_PATH = 'dataset/users.dat'\n",
    "ITEMS_PATH = 'dataset/movies.dat'\n",
    "RATINGS_PATH = 'dataset/ratings.dat'\n",
    "\n",
    "# Process users---------------------------------------------------------------------\n",
    "print(\"Processing users\")\n",
    "users = pd.read_csv(USERS_PATH, delimiter='::', engine='python', names=['user_id', 'gender', 'age', 'occupation', 'zip_code'])\n",
    "users['user_id'] = users['user_id'].astype('category')\n",
    "users['user_id_num'] = users['user_id'].cat.codes\n",
    "users = users[['user_id', 'user_id_num']]\n",
    "user_id_to_num = dict(zip(users['user_id'], users['user_id_num']))\n",
    "print(users)\n",
    "\n",
    "# Process items---------------------------------------------------------------\n",
    "print(\"Processing items\")\n",
    "items = pd.read_csv(ITEMS_PATH, delimiter='::', engine='python', encoding='latin1', names=['movie_id', 'title', 'genres'])\n",
    "items['movie_id'] = items['movie_id'].astype('category')\n",
    "items['movie_id_num'] = items['movie_id'].cat.codes\n",
    "items = items[['movie_id', 'movie_id_num']]\n",
    "item_id_to_num = dict(zip(items['movie_id'], items['movie_id_num']))\n",
    "print(items)\n",
    "\n",
    "# Process ratings--------------------------------------------------------------------\n",
    "print(\"Processing ratings\")\n",
    "ratings = pd.read_csv(RATINGS_PATH, delimiter='::', engine='python', names=['user_id', 'movie_id', 'rating', 'timestamp'])\n",
    "# Merge users and items info\n",
    "ratings = pd.merge(ratings, users, how='inner', on='user_id')\n",
    "ratings = pd.merge(ratings, items, how='inner', on='movie_id')\n",
    "# Drop id (keep id in number)\n",
    "ratings = ratings.drop(columns='user_id')\n",
    "ratings = ratings.drop(columns='movie_id')\n",
    "print(ratings)"
   ]
  },
  {
   "cell_type": "code",
   "execution_count": 3,
   "metadata": {},
   "outputs": [],
   "source": [
    "# Save data----------------------------------------------------------------------------\n",
    "pickle.dump(user_id_to_num, open('./dataset/user_id_to_num.pkl', 'wb'))\n",
    "pickle.dump(item_id_to_num, open('./dataset/item_id_to_num.pkl', 'wb'))\n",
    "np.save('./dataset/data.npy', ratings.values)\n"
   ]
  }
 ],
 "metadata": {
  "kernelspec": {
   "display_name": "drr",
   "language": "python",
   "name": "python3"
  },
  "language_info": {
   "codemirror_mode": {
    "name": "ipython",
    "version": 3
   },
   "file_extension": ".py",
   "mimetype": "text/x-python",
   "name": "python",
   "nbconvert_exporter": "python",
   "pygments_lexer": "ipython3",
   "version": "3.10.15"
  }
 },
 "nbformat": 4,
 "nbformat_minor": 2
}
