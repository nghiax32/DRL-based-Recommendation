{
 "cells": [
  {
   "cell_type": "code",
   "execution_count": 1,
   "metadata": {},
   "outputs": [],
   "source": [
    "import pandas as pd\n",
    "import pickle\n",
    "import numpy as np"
   ]
  },
  {
   "cell_type": "code",
   "execution_count": 2,
   "metadata": {},
   "outputs": [
    {
     "name": "stdout",
     "output_type": "stream",
     "text": [
      "Processing users\n"
     ]
    },
    {
     "name": "stderr",
     "output_type": "stream",
     "text": [
      "/tmp/ipykernel_11229/2358043950.py:8: DtypeWarning: Columns (17) have mixed types. Specify dtype option on import or set low_memory=False.\n",
      "  users = pd.read_csv(USERS_PATH)\n"
     ]
    },
    {
     "name": "stdout",
     "output_type": "stream",
     "text": [
      "                        user_id  user_id_num  review_count\n",
      "0        qVc8ODYU5SZjKXVBgXdI7w      1693050           585\n",
      "1        j14WgRoU_-2ZE1aw1dXrJg      1461848          4333\n",
      "2        2WnXYQFK0hXEoTxPtV2zvg       109828           665\n",
      "3        SZDeASXq7o05mMNLshsdIA       919866           224\n",
      "4        hA5lMy-EnncsH4JoR-hFGQ      1404315            79\n",
      "...                         ...          ...           ...\n",
      "1987892  fB3jbHi3m0L2KgGOxBv6uw      1342378            23\n",
      "1987893  68czcr4BxJyMQ9cJBm6C7Q       222347             1\n",
      "1987894  1x3KMskYxOuJCjRz70xOqQ        92112             4\n",
      "1987895  ulfGl4tdbrH05xKzh5lnog      1825896             2\n",
      "1987896  wL5jPrLRVCK_Pmo4lM1zpA      1874251             2\n",
      "\n",
      "[1987843 rows x 3 columns]\n",
      "Processing restaurants\n"
     ]
    },
    {
     "name": "stderr",
     "output_type": "stream",
     "text": [
      "/tmp/ipykernel_11229/2358043950.py:19: DtypeWarning: Columns (3,36) have mixed types. Specify dtype option on import or set low_memory=False.\n",
      "  restaurants = pd.read_csv(RESTAURANTS_PATH)\n"
     ]
    },
    {
     "name": "stdout",
     "output_type": "stream",
     "text": [
      "                   business_id  business_id_num\n",
      "0       Pns2l4eNsfO8kk83dixA6A            62823\n",
      "1       mpf3x-BjTdTEA3yCZrAYPw           119206\n",
      "2       tUFrWirKiKi_TAnsVWINQQ           134797\n",
      "3       MTSW4McQd7CbVtyjqoe9mw            55038\n",
      "4       mWMc6_wTdE0EUBKIGXDVfA           118460\n",
      "...                        ...              ...\n",
      "150341  IUQopTMmYQG-qRtBk-8QnA            45798\n",
      "150342  c8GjPIOTGVmIemT7j5_SyQ            94023\n",
      "150343  _QAMST-NrQobXduilWEqSw            87809\n",
      "150344  mtGm22y5c2UHNXDFAjaPNw           119332\n",
      "150345  jV_XOycEzSlTx-65W906pg           111381\n",
      "\n",
      "[150346 rows x 2 columns]\n",
      "Processing reviews\n",
      "         stars        date  funny  cool  useful  user_id_num  review_count  \\\n",
      "0          3.0  1531001351      0     0       0      1575913            33   \n",
      "1          5.0  1325604498      0     1       1       808602            10   \n",
      "2          3.0  1391632230      0     0       0       301895          1332   \n",
      "3          5.0  1420329663      0     1       1      1154269             9   \n",
      "4          4.0  1484427255      0     1       1      1231608           126   \n",
      "...        ...         ...    ...   ...     ...          ...           ...   \n",
      "6990187    5.0  1418852720      2     1       1      1704828           327   \n",
      "6990188    5.0  1617209710      1     2       2      1144177            41   \n",
      "6990189    4.0  1577678190      0     0       1      1578206           326   \n",
      "6990190    5.0  1642618767      0     0       1      1117070           281   \n",
      "6990191    3.0  1514933447      3     7      10       227711          1868   \n",
      "\n",
      "         business_id_num  \n",
      "0                  80739  \n",
      "1                  19425  \n",
      "2                  83879  \n",
      "3                 114801  \n",
      "4                  98537  \n",
      "...                  ...  \n",
      "6990187           111608  \n",
      "6990188             9389  \n",
      "6990189            65728  \n",
      "6990190            67627  \n",
      "6990191            75424  \n",
      "\n",
      "[6990192 rows x 8 columns]\n"
     ]
    }
   ],
   "source": [
    "REVIEW_DROP = 0\n",
    "RESTAURANTS_PATH = 'dataset/restaurants.csv'\n",
    "USERS_PATH = 'dataset/users.csv'\n",
    "REVIEWS_PATH = 'dataset/reviews.csv'\n",
    "\n",
    "# Process users---------------------------------------------------------------------\n",
    "print(\"Processing users\")\n",
    "users = pd.read_csv(USERS_PATH)\n",
    "# Drop users with reviews count less than or equa REVIEW_DROP\n",
    "users = users[users['review_count'] > REVIEW_DROP]\n",
    "users['user_id'] = users['user_id'].astype('category')\n",
    "users['user_id_num'] = users['user_id'].cat.codes\n",
    "users = users[['user_id', 'user_id_num', 'review_count']]\n",
    "user_id_to_num = dict(zip(users['user_id'], users['user_id_num']))\n",
    "print(users)\n",
    "\n",
    "# Process restaurants---------------------------------------------------------------\n",
    "print(\"Processing restaurants\")\n",
    "restaurants = pd.read_csv(RESTAURANTS_PATH)\n",
    "restaurants['business_id'] = restaurants['business_id'].astype('category')\n",
    "restaurants['business_id_num'] = restaurants['business_id'].cat.codes\n",
    "restaurants = restaurants[['business_id', 'business_id_num']]\n",
    "rest_id_to_num = dict(zip(restaurants['business_id'], restaurants['business_id_num']))\n",
    "print(restaurants)\n",
    "\n",
    "# Process reviews--------------------------------------------------------------------\n",
    "print(\"Processing reviews\")\n",
    "reviews = pd.read_csv(REVIEWS_PATH)\n",
    "# Merge user and restaurant info\n",
    "reviews = pd.merge(reviews, users, how='inner', on='user_id')\n",
    "reviews = pd.merge(reviews, restaurants, how='inner', on='business_id')\n",
    "# Drop id (keep id in number)\n",
    "reviews = reviews.drop(columns='user_id')\n",
    "reviews = reviews.drop(columns='business_id')\n",
    "reviews = reviews.drop(columns='review_id')\n",
    "# Process date column\n",
    "reviews['date'] = pd.to_datetime(reviews['date'])\n",
    "reviews['date'] = reviews['date'].astype('int64') // 10**9\n",
    "# Keep only the numeric data columns\n",
    "reviews = reviews.select_dtypes(include =[np.number])\n",
    "print(reviews)"
   ]
  },
  {
   "cell_type": "code",
   "execution_count": 3,
   "metadata": {},
   "outputs": [],
   "source": [
    "# Save data----------------------------------------------------------------------------\n",
    "pickle.dump(user_id_to_num, open('./dataset/user_id_to_num.pkl', 'wb'))\n",
    "pickle.dump(rest_id_to_num, open('./dataset/rest_id_to_num.pkl', 'wb'))\n",
    "# Change type data of stars\n",
    "np.save('./dataset/data.npy', reviews.values.astype(int))\n",
    "# np.save('./dataset/data.npy', reviews.values)\n"
   ]
  }
 ],
 "metadata": {
  "kernelspec": {
   "display_name": "drl-based-recommendation",
   "language": "python",
   "name": "python3"
  },
  "language_info": {
   "codemirror_mode": {
    "name": "ipython",
    "version": 3
   },
   "file_extension": ".py",
   "mimetype": "text/x-python",
   "name": "python",
   "nbconvert_exporter": "python",
   "pygments_lexer": "ipython3",
   "version": "3.10.14"
  }
 },
 "nbformat": 4,
 "nbformat_minor": 2
}
