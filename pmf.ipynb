{
 "cells": [
  {
   "cell_type": "code",
   "execution_count": 1,
   "metadata": {
    "colab": {
     "base_uri": "https://localhost:8080/"
    },
    "executionInfo": {
     "elapsed": 17391,
     "status": "ok",
     "timestamp": 1730053709686,
     "user": {
      "displayName": "Nghĩa Hoàng",
      "userId": "08347243820542548274"
     },
     "user_tz": -420
    },
    "id": "ZXpIcSANsN1v",
    "outputId": "c9a6b841-e842-44c2-b9f2-1e34cd3de2e4"
   },
   "outputs": [
    {
     "name": "stdout",
     "output_type": "stream",
     "text": [
      "Mounted at /content/drive\n"
     ]
    }
   ],
   "source": [
    "# Run on google colab only\n",
    "from google.colab import drive\n",
    "drive.mount('/content/drive')\n",
    "root_path = '/content/drive/MyDrive/DRL-based-Recommendation'\n",
    "\n",
    "import os\n",
    "os.chdir(root_path)"
   ]
  },
  {
   "cell_type": "code",
   "execution_count": 1,
   "metadata": {
    "executionInfo": {
     "elapsed": 5649,
     "status": "ok",
     "timestamp": 1730053717777,
     "user": {
      "displayName": "Nghĩa Hoàng",
      "userId": "08347243820542548274"
     },
     "user_tz": -420
    },
    "id": "ewx9VZtFOLYt"
   },
   "outputs": [],
   "source": [
    "from __future__ import print_function\n",
    "import numpy as np\n",
    "import pickle\n",
    "import torch\n",
    "import torch.nn as nn\n",
    "import torch.optim as optim\n",
    "from torch.autograd import Variable\n",
    "import torch.utils.data\n",
    "import matplotlib.pyplot as plt\n",
    "\n",
    "from model import PMF\n",
    "from evaluations import RMSE"
   ]
  },
  {
   "cell_type": "code",
   "execution_count": 2,
   "metadata": {
    "executionInfo": {
     "elapsed": 509,
     "status": "ok",
     "timestamp": 1730053721712,
     "user": {
      "displayName": "Nghĩa Hoàng",
      "userId": "08347243820542548274"
     },
     "user_tz": -420
    },
    "id": "Onln7EnbOLYt"
   },
   "outputs": [],
   "source": [
    "# Input batch size for training\n",
    "batch_size = 100000\n",
    "# Number of maximum epoches to train\n",
    "epoches = 100\n",
    "# Enables CUDA training\n",
    "enable_cuda = False\n",
    "# Generate random seed\n",
    "seed = 42\n",
    "# Weight decay\n",
    "weight_decay = 0.1\n",
    "# Size of embedding features\n",
    "embedding_feature_size = 100\n",
    "# Train ratio\n",
    "train_ratio = 0.8\n",
    "# Val ratio\n",
    "val_ratio = 0.1\n",
    "# Test ratio\n",
    "# test_ratio = 1 - train_ratio - val_ratio\n",
    "# Learning rate\n",
    "lr = 0.0001\n",
    "# Momentum value\n",
    "momentum = 0.9"
   ]
  },
  {
   "cell_type": "code",
   "execution_count": 3,
   "metadata": {
    "executionInfo": {
     "elapsed": 13052,
     "status": "ok",
     "timestamp": 1730053739268,
     "user": {
      "displayName": "Nghĩa Hoàng",
      "userId": "08347243820542548274"
     },
     "user_tz": -420
    },
    "id": "vci3Q9TTOLYt"
   },
   "outputs": [],
   "source": [
    "# Load datasets\n",
    "user = pickle.load(open('dataset/user_id_to_num.pkl', 'rb'))\n",
    "rest = pickle.load(open('dataset/item_id_to_num.pkl', 'rb'))\n",
    "data = np.load('dataset/data.npy', allow_pickle=True)"
   ]
  },
  {
   "cell_type": "code",
   "execution_count": null,
   "metadata": {
    "colab": {
     "base_uri": "https://localhost:8080/"
    },
    "executionInfo": {
     "elapsed": 19505,
     "status": "ok",
     "timestamp": 1730054012165,
     "user": {
      "displayName": "Nghĩa Hoàng",
      "userId": "08347243820542548274"
     },
     "user_tz": -420
    },
    "id": "-LdAKNsYsHW2",
    "outputId": "8f9e7fb6-395e-446d-8811-9cf5130550e5"
   },
   "outputs": [],
   "source": [
    "# Normalize rewards to [-1, 1]\n",
    "data[:,0] = 0.5*(data[:,0] - 3)\n",
    "\n",
    "# Shuffle data\n",
    "np.random.shuffle(data)\n",
    "\n",
    "# Split data\n",
    "train_data = data[:int(train_ratio*data.shape[0])]\n",
    "vali_data = data[int(train_ratio*data.shape[0]):int((train_ratio+val_ratio)*data.shape[0])]\n",
    "test_data = data[int((train_ratio+val_ratio)*data.shape[0]):]\n",
    "\n",
    "# Extract number of users and items\n",
    "NUM_USERS = len(user)\n",
    "NUM_ITEMS = len(rest)\n",
    "\n",
    "# Get CUDA device if available\n",
    "cuda = torch.cuda.is_available() and enable_cuda\n",
    "\n",
    "# Set device to CUDA or CPU, depending on availability and desire\n",
    "device = torch.device(\"cuda\" if cuda else \"cpu\")\n",
    "\n",
    "# Generate and apply seeds\n",
    "torch.manual_seed(seed=seed)\n",
    "if cuda:\n",
    "    torch.cuda.empty_cache()\n",
    "    torch.cuda.manual_seed(seed=seed)\n",
    "\n",
    "# Specify number of workers for cuda\n",
    "kwargs = {'num_workers':2, 'pin_memory':True} if cuda else {}\n",
    "\n",
    "# Construct Data Loaders\n",
    "train_data_loader = torch.utils.data.DataLoader(torch.from_numpy(train_data), batch_size=batch_size, shuffle=False, **kwargs)\n",
    "test_data_loader = torch.utils.data.DataLoader(torch.from_numpy(test_data), batch_size=batch_size, shuffle=False, **kwargs)\n",
    "\n",
    "# Initialize model\n",
    "model = PMF(n_users=NUM_USERS, n_items=NUM_ITEMS, n_factors=embedding_feature_size, enable_cuda=enable_cuda)\n",
    "# print(f\"DEBUG: # Initialize model: n_users = {NUM_USERS}, n_items = {NUM_ITEMS}\", )\n",
    "\n",
    "# Move model to CUDA if CUDA selected\n",
    "if cuda:\n",
    "    model.cuda()\n",
    "    print(\"Model moved to CUDA\")\n",
    "\n",
    "# Set loss function\n",
    "loss_function = nn.MSELoss(reduction='sum')\n",
    "\n",
    "# Set optimizer (uncomment Adam for adam)\n",
    "optimizer = optim.SGD(model.parameters(), lr=lr, weight_decay=weight_decay, momentum=momentum)\n",
    "\n",
    "# Function for training one epoch\n",
    "def train(epoch, train_data_loader):\n",
    "    # Initialize\n",
    "    model.train()\n",
    "    epoch_loss = 0.0\n",
    "    optimizer.zero_grad()\n",
    "\n",
    "    # Go through batches\n",
    "    for batch_idx, ele in enumerate(train_data_loader):\n",
    "        # Zero optimizer gradient\n",
    "        optimizer.zero_grad()\n",
    "\n",
    "        # Extract user_id_nums: row, item_id_nums: col, ratings: val\n",
    "        row = ele[:, 2]\n",
    "        col = ele[:, 3]\n",
    "        val = ele[:, 0]\n",
    "\n",
    "        # Set to variables\n",
    "        row = Variable(row.long())\n",
    "        if isinstance(col, list):\n",
    "            col = tuple(Variable(c.long()) for c in col)\n",
    "        else:\n",
    "            col = Variable(col.long())\n",
    "        val = Variable(val.float())\n",
    "        # Normalize rewards to [-1, 1]\n",
    "        # val = 0.5*(val - 3)\n",
    "\n",
    "        # Move data to CUDA\n",
    "        if cuda:\n",
    "            row = row.cuda()\n",
    "            col = col.cuda()\n",
    "            val = val.cuda()\n",
    "\n",
    "        # Train\n",
    "        preds = model.forward(row, col)\n",
    "        loss = loss_function(preds, val)\n",
    "        loss.backward()\n",
    "        optimizer.step()\n",
    "\n",
    "        # Update epoch loss\n",
    "        epoch_loss += loss.data\n",
    "\n",
    "    epoch_loss /= train_data_loader.dataset.shape[0]\n",
    "    return epoch_loss"
   ]
  },
  {
   "cell_type": "code",
   "execution_count": 5,
   "metadata": {
    "colab": {
     "base_uri": "https://localhost:8080/"
    },
    "executionInfo": {
     "elapsed": 1858130,
     "status": "ok",
     "timestamp": 1730056000364,
     "user": {
      "displayName": "Nghĩa Hoàng",
      "userId": "08347243820542548274"
     },
     "user_tz": -420
    },
    "id": "nD_Ypy_usHW4",
    "outputId": "677a6061-7361-420a-8d1f-332a8764acef"
   },
   "outputs": [
    {
     "name": "stdout",
     "output_type": "stream",
     "text": [
      "------------------------------------------- Training Model------------------------------------------------\n",
      "parameters are: train ratio:0.800000,batch_size:100000, epoches:100, weight_decay:0.100000\n",
      "PMF(\n",
      "  (user_embeddings): Embedding(6040, 100)\n",
      "  (item_embeddings): Embedding(3883, 100)\n",
      "  (ub): Embedding(6040, 1)\n",
      "  (ib): Embedding(3883, 1)\n",
      ")\n"
     ]
    },
    {
     "name": "stderr",
     "output_type": "stream",
     "text": [
      "/tmp/ipykernel_23834/2205424219.py:36: DeprecationWarning: __array_wrap__ must accept context and return_scalar arguments (positionally) in the future. (Deprecated NumPy 2.0)\n",
      "  train_rmse = np.sqrt(train_epoch_loss.cpu())\n"
     ]
    },
    {
     "name": "stdout",
     "output_type": "stream",
     "text": [
      "Training epoch: 1, training rmse: 0.495074, vali rmse:0.469326\n",
      "Training epoch: 2, training rmse: 0.461098, vali rmse:0.454733\n",
      "Training epoch: 3, training rmse: 0.449468, vali rmse:0.448321\n",
      "Training epoch: 4, training rmse: 0.443014, vali rmse:0.444590\n",
      "Training epoch: 5, training rmse: 0.439560, vali rmse:0.442481\n",
      "Training epoch: 6, training rmse: 0.437456, vali rmse:0.441284\n",
      "Training epoch: 7, training rmse: 0.436085, vali rmse:0.440572\n",
      "Training epoch: 8, training rmse: 0.435109, vali rmse:0.440070\n",
      "Training epoch: 9, training rmse: 0.434352, vali rmse:0.439701\n",
      "Training epoch: 10, training rmse: 0.433735, vali rmse:0.439417\n",
      "Training epoch: 11, training rmse: 0.433211, vali rmse:0.439196\n",
      "Training epoch: 12, training rmse: 0.432745, vali rmse:0.439016\n",
      "Training epoch: 13, training rmse: 0.432321, vali rmse:0.438859\n",
      "Training epoch: 14, training rmse: 0.431926, vali rmse:0.438723\n",
      "Training epoch: 15, training rmse: 0.431552, vali rmse:0.438602\n",
      "Training epoch: 16, training rmse: 0.431190, vali rmse:0.438491\n",
      "Training epoch: 17, training rmse: 0.430837, vali rmse:0.438387\n",
      "Training epoch: 18, training rmse: 0.430487, vali rmse:0.438287\n",
      "Training epoch: 19, training rmse: 0.430137, vali rmse:0.438190\n",
      "Training epoch: 20, training rmse: 0.429784, vali rmse:0.438094\n",
      "Training epoch: 21, training rmse: 0.429427, vali rmse:0.437997\n",
      "Training epoch: 22, training rmse: 0.429061, vali rmse:0.437899\n",
      "Training epoch: 23, training rmse: 0.428687, vali rmse:0.437800\n",
      "Training epoch: 24, training rmse: 0.428301, vali rmse:0.437697\n",
      "Training epoch: 25, training rmse: 0.427902, vali rmse:0.437592\n",
      "Training epoch: 26, training rmse: 0.427489, vali rmse:0.437484\n",
      "Training epoch: 27, training rmse: 0.427061, vali rmse:0.437372\n",
      "Training epoch: 28, training rmse: 0.426615, vali rmse:0.437257\n",
      "Training epoch: 29, training rmse: 0.426152, vali rmse:0.437137\n",
      "Training epoch: 30, training rmse: 0.425669, vali rmse:0.437014\n",
      "Training epoch: 31, training rmse: 0.425166, vali rmse:0.436887\n",
      "Training epoch: 32, training rmse: 0.424642, vali rmse:0.436756\n",
      "Training epoch: 33, training rmse: 0.424096, vali rmse:0.436622\n",
      "Training epoch: 34, training rmse: 0.423525, vali rmse:0.436484\n",
      "Training epoch: 35, training rmse: 0.422931, vali rmse:0.436342\n",
      "Training epoch: 36, training rmse: 0.422310, vali rmse:0.436197\n",
      "Training epoch: 37, training rmse: 0.421662, vali rmse:0.436048\n",
      "Training epoch: 38, training rmse: 0.420986, vali rmse:0.435896\n",
      "Training epoch: 39, training rmse: 0.420280, vali rmse:0.435741\n",
      "Training epoch: 40, training rmse: 0.419543, vali rmse:0.435582\n",
      "Training epoch: 41, training rmse: 0.418773, vali rmse:0.435419\n",
      "Training epoch: 42, training rmse: 0.417969, vali rmse:0.435253\n",
      "Training epoch: 43, training rmse: 0.417129, vali rmse:0.435083\n",
      "Training epoch: 44, training rmse: 0.416252, vali rmse:0.434909\n",
      "Training epoch: 45, training rmse: 0.415336, vali rmse:0.434732\n",
      "Training epoch: 46, training rmse: 0.414380, vali rmse:0.434551\n",
      "Training epoch: 47, training rmse: 0.413382, vali rmse:0.434366\n",
      "Training epoch: 48, training rmse: 0.412341, vali rmse:0.434178\n",
      "Training epoch: 49, training rmse: 0.411257, vali rmse:0.433987\n",
      "Training epoch: 50, training rmse: 0.410128, vali rmse:0.433795\n",
      "Training epoch: 51, training rmse: 0.408954, vali rmse:0.433601\n",
      "Training epoch: 52, training rmse: 0.407735, vali rmse:0.433406\n",
      "Training epoch: 53, training rmse: 0.406471, vali rmse:0.433212\n",
      "Training epoch: 54, training rmse: 0.405162, vali rmse:0.433020\n",
      "Training epoch: 55, training rmse: 0.403810, vali rmse:0.432830\n",
      "Training epoch: 56, training rmse: 0.402415, vali rmse:0.432646\n",
      "Training epoch: 57, training rmse: 0.400979, vali rmse:0.432467\n",
      "Training epoch: 58, training rmse: 0.399503, vali rmse:0.432295\n",
      "Training epoch: 59, training rmse: 0.397989, vali rmse:0.432132\n",
      "Training epoch: 60, training rmse: 0.396438, vali rmse:0.431979\n",
      "Training epoch: 61, training rmse: 0.394853, vali rmse:0.431837\n",
      "Training epoch: 62, training rmse: 0.393235, vali rmse:0.431708\n",
      "Training epoch: 63, training rmse: 0.391587, vali rmse:0.431592\n",
      "Training epoch: 64, training rmse: 0.389910, vali rmse:0.431491\n",
      "Training epoch: 65, training rmse: 0.388206, vali rmse:0.431405\n",
      "Training epoch: 66, training rmse: 0.386478, vali rmse:0.431335\n",
      "Training epoch: 67, training rmse: 0.384727, vali rmse:0.431282\n",
      "Training epoch: 68, training rmse: 0.382955, vali rmse:0.431247\n",
      "Training epoch: 69, training rmse: 0.381164, vali rmse:0.431229\n",
      "Training epoch: 70, training rmse: 0.379356, vali rmse:0.431231\n"
     ]
    }
   ],
   "source": [
    "# training model part\n",
    "print('------------------------------------------- Training Model------------------------------------------------')\n",
    "train_loss_list = []\n",
    "last_vali_rmse = None\n",
    "train_rmse_list = []\n",
    "vali_rmse_list = []\n",
    "print('parameters are: train ratio:{:f},batch_size:{:d}, epoches:{:d}, weight_decay:{:f}'.format(train_ratio, batch_size, epoches, weight_decay))\n",
    "print(model)\n",
    "\n",
    "# Go through epochs\n",
    "for epoch in range(1, epoches+1):\n",
    "\n",
    "    # Train epoch\n",
    "    train_epoch_loss = train(epoch, train_data_loader)\n",
    "\n",
    "    # Get epoch loss\n",
    "    train_loss_list.append(train_epoch_loss.cpu())\n",
    "\n",
    "    # Move validation data to CUDA\n",
    "    if cuda:\n",
    "        vali_row = Variable(torch.from_numpy(vali_data[:, 2]).long()).cuda()\n",
    "        vali_col = Variable(torch.from_numpy(vali_data[:, 3]).long()).cuda()\n",
    "    else:\n",
    "        vali_row = Variable(torch.from_numpy(vali_data[:, 2]).long())\n",
    "        vali_col = Variable(torch.from_numpy(vali_data[:, 3]).long())\n",
    "\n",
    "    vali_val = vali_data[:, 0]\n",
    "    # Normalize rewards to [-1, 1]\n",
    "    # vali_val = vali_val.astype(float)\n",
    "    # vali_val = 0.5*(vali_val - 3)\n",
    "\n",
    "    # Get validation predictions\n",
    "    vali_preds = model.predict(vali_row, vali_col)\n",
    "\n",
    "    # Calculate train rmse loss\n",
    "    train_rmse = np.sqrt(train_epoch_loss.cpu())\n",
    "\n",
    "    # Calculate validation rmse loss\n",
    "    if cuda:\n",
    "        vali_rmse = RMSE(vali_preds.cpu().data.numpy(), vali_val)\n",
    "    else:\n",
    "        vali_rmse = RMSE(vali_preds.data.numpy(), vali_val)\n",
    "\n",
    "    # Add losses to rmse loss lists\n",
    "    train_rmse_list.append(train_rmse)\n",
    "    vali_rmse_list.append(vali_rmse)\n",
    "\n",
    "    print('Training epoch:{: d}, training rmse:{: .6f}, vali rmse:{:.6f}'. \\\n",
    "              format(epoch, train_rmse, vali_rmse))\n",
    "\n",
    "    # # Early stop condition\n",
    "    if last_vali_rmse and last_vali_rmse < vali_rmse:\n",
    "        break\n",
    "    else:\n",
    "      last_vali_rmse = vali_rmse"
   ]
  },
  {
   "cell_type": "code",
   "execution_count": 8,
   "metadata": {
    "colab": {
     "base_uri": "https://localhost:8080/",
     "height": 507
    },
    "executionInfo": {
     "elapsed": 9058,
     "status": "ok",
     "timestamp": 1730056022334,
     "user": {
      "displayName": "Nghĩa Hoàng",
      "userId": "08347243820542548274"
     },
     "user_tz": -420
    },
    "id": "YONRMcQzsHW4",
    "outputId": "ac8df177-1e54-4851-cebe-c01333a70fd4"
   },
   "outputs": [
    {
     "name": "stdout",
     "output_type": "stream",
     "text": [
      "------------------------------------------- Testing Model------------------------------------------------\n",
      "Test rmse: 0.431879\n"
     ]
    },
    {
     "data": {
      "image/png": "[encoded data removed]",
      "text/plain": [
       "<Figure size 640x480 with 1 Axes>"
      ]
     },
     "metadata": {},
     "output_type": "display_data"
    }
   ],
   "source": [
    "print('------------------------------------------- Testing Model------------------------------------------------')\n",
    "\n",
    "# Move test set to CUDA\n",
    "if cuda:\n",
    "    test_row = Variable(torch.from_numpy(test_data[:, 2]).long()).cuda()\n",
    "    test_col = Variable(torch.from_numpy(test_data[:, 3]).long()).cuda()\n",
    "else:\n",
    "    test_row = Variable(torch.from_numpy(test_data[:, 2]).long())\n",
    "    test_col = Variable(torch.from_numpy(test_data[:, 3]).long())\n",
    "\n",
    "# Get test predictions\n",
    "preds = model.predict(test_row, test_col)\n",
    "\n",
    "test_val = test_data[:, 0]\n",
    "# Normalize rewards to [-1, 1]\n",
    "# test_val = test_val.astype(float)\n",
    "# test_val = 0.5*(test_val - 3)\n",
    "\n",
    "# Get test rmse loss\n",
    "if cuda:\n",
    "    test_rmse = RMSE(preds.cpu().data.numpy(), test_val)\n",
    "else:\n",
    "    test_rmse = RMSE(preds.data.numpy(), test_val)\n",
    "print('Test rmse: {:f}'.format(test_rmse))\n",
    "\n",
    "# Create plots\n",
    "plt.figure(1)\n",
    "plt.plot(range(1, len(train_rmse_list)+1), train_rmse_list, color='r', label='train rmse')\n",
    "plt.plot(range(1, len(vali_rmse_list)+1), vali_rmse_list, color='b', label='test rmse')\n",
    "plt.legend()\n",
    "plt.annotate(r'train=%f' % (train_rmse_list[-1]), xy=(len(train_rmse_list), train_rmse_list[-1]),\n",
    "             xycoords='data', xytext=(-30, 30), textcoords='offset points', fontsize=10,\n",
    "             arrowprops=dict(arrowstyle='->', connectionstyle='arc3, rad=.2'))\n",
    "plt.annotate(r'vali=%f' % (vali_rmse_list[-1]), xy=(len(vali_rmse_list), vali_rmse_list[-1]),\n",
    "             xycoords='data', xytext=(-30, 30), textcoords='offset points', fontsize=10,\n",
    "             arrowprops=dict(arrowstyle='->', connectionstyle='arc3, rad=.2'))\n",
    "plt.xlim([1, len(train_rmse_list)+10])\n",
    "plt.xlabel('iterations')\n",
    "plt.ylabel('RMSE')\n",
    "plt.title('RMSE Curve in Training Process')\n",
    "plt.show()\n",
    "\n",
    "# Save model\n",
    "path_to_trained_pmf = 'dataset/data_runs/ratio_{:f}_bs_{:d}_e_{:d}_wd_{:f}_lr_{:f}_cuda_{:}_trained_pmf.pt'.format(train_ratio, batch_size, len(train_rmse_list), weight_decay, lr, enable_cuda)\n",
    "torch.save(model.state_dict(), path_to_trained_pmf)"
   ]
  }
 ],
 "metadata": {
  "accelerator": "GPU",
  "colab": {
   "gpuType": "T4",
   "provenance": []
  },
  "kernelspec": {
   "display_name": "drr",
   "language": "python",
   "name": "python3"
  },
  "language_info": {
   "codemirror_mode": {
    "name": "ipython",
    "version": 3
   },
   "file_extension": ".py",
   "mimetype": "text/x-python",
   "name": "python",
   "nbconvert_exporter": "python",
   "pygments_lexer": "ipython3",
   "version": "3.10.15"
  }
 },
 "nbformat": 4,
 "nbformat_minor": 0
}
